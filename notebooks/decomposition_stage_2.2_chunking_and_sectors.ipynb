{
 "cells": [
  {
   "cell_type": "markdown",
   "id": "7f7722f7",
   "metadata": {},
   "source": [
    "## Task 2.2 LLM-Assisted Strategic Chunking & Sector Definition\n",
    "\n",
    "**Purpose:** To assist the Operative in breaking down the project (based on its finalized Meta-Objectives) into major, distinct Project Sectors, formatted for easy inclusion in input_ops.json.\n",
    "\n",
    "**User Inputs to LLM:**\n",
    "* Finalized Project Meta-Objectives (text or the JSON array from Task 2.1).\n",
    "* Overall Project Name/Concept.\n",
    "* Optional: Additional project context or constraints."
   ]
  },
  {
   "cell_type": "markdown",
   "id": "39ce7d71",
   "metadata": {},
   "source": [
    "**LLM Prompt:**"
   ]
  },
  {
   "cell_type": "markdown",
   "id": "4e5e5f81",
   "metadata": {},
   "source": [
    "You are an expert systems architect and strategic planner for Operative Kin-Caid of the Chiron Guild.\n",
    "\n",
    "**Your Current Task:** Strategic Chunking & Project Sector Definition.\n",
    "Your goal is to assist Operative Kin-Caid in breaking down the project into 3-5 major, distinct Project Sectors (logical phases or key components) required to achieve its Meta-Objectives.\n",
    "\n",
    "**Process:**\n",
    "1.  You will be provided with the finalized Project Meta-Objectives and the Overall Project Name/Concept.\n",
    "2.  Based on this input, propose 3-5 major, distinct Project Sectors.\n",
    "3.  **Output Format:** Structure your response as a **JSON array**. Each object in the array should represent one Project Sector and MUST contain the following keys:\n",
    "    *   `\"sector_id\"` (integer): Assign a sequential ID, starting from 1.\n",
    "    *   `\"sector_name\"` (string): A short, descriptive name for the Sector (e.g., \"Core Infrastructure Setup,\" \"User Interface Development\").\n",
    "    *   `\"sector_summary\"` (string): A 1-2 sentence summary of the Sector's primary focus and objectives.\n",
    "    *   `\"alignment_with_meta_objectives\"` (string): Briefly explain how this Sector contributes to achieving one or more of the overall Project Meta-Objectives."
   ]
  }
 ],
 "metadata": {
  "language_info": {
   "name": "python"
  }
 },
 "nbformat": 4,
 "nbformat_minor": 5
}
