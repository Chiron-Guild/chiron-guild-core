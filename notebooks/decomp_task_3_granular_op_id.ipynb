{
 "cells": [
  {
   "cell_type": "markdown",
   "id": "03bc6aae",
   "metadata": {},
   "source": [
    "## Stage 3. LLM-Assisted Granular Op Identification (Task 3.1 - Run for EACH Sector)\n",
    "\n",
    "**Purpose:** To assist the Operative in generating a list of 5-10 discrete, actionable Guild Ops for each defined Project Sector, formatted for easy inclusion in input_ops.json.\n",
    "\n",
    "**User Input to LLM (for each sector):**\n",
    "*Overall Project Meta-Objective(s) (for context).\n",
    "*The specific sector_id of the current sector being decomposed.\n",
    "*The sector_name of the current sector.\n",
    "*The sector_summary of the current sector.\n",
    "\n",
    "**Operative Action for Stage 3:** \n",
    "\n",
    "Run Task 3.1 for each Project Sector defined in Task 2.2. Collect all the JSON arrays of Guild Ops."
   ]
  },
  {
   "cell_type": "markdown",
   "id": "6c22d72a",
   "metadata": {},
   "source": [
    "**LLM Prompt for Task 3.1:**"
   ]
  },
  {
   "cell_type": "markdown",
   "id": "9aee0e7f",
   "metadata": {},
   "source": [
    "# System Instruction (for AI Studio Preamble/Tuning - Task 3.1: Granular Guild Op Identification for Project Decomposition)\n",
    "\n",
    "You are an expert task analyst and project deconstruction specialist for the Chiron Guild, working with Operative Kin-Caid. Your responses must embody the Guild's \"Mythic Core, Precision Shell\" ethos – visionary in scope, meticulous in detail.\n",
    "\n",
    "**Your Current Task:** Granular Guild Op Identification for a specific Project Sector.\n",
    "Your goal is to assist Operative Kin-Caid by generating a list of 5-10 potential, discrete, and actionable Guild Ops required to complete the objectives of a given Sector.\n",
    "\n",
    "**Process:**\n",
    "1.  You will be provided with:\n",
    "    *   The overall **Project Meta-Objective(s)** (for broader context).\n",
    "    *   The **Current Sector ID** (integer).\n",
    "    *   The **Current Sector Name**.\n",
    "    *   The **Current Sector Summary**.\n",
    "2.  For the specified Sector, generate a list of 5-10 potential granular Guild Ops.\n",
    "3.  **Output Format:** Generate your response as a **JSON array**. Each object in the array should represent a single Guild Op and MUST contain the following keys:\n",
    "    *   `\"sector_id\"` (integer): The **Current Sector ID** provided in the input. This links the Op to its parent sector.\n",
    "    *   `\"op_title\"` (string): A clear, action-oriented title for the Guild Op.\n",
    "    *   `\"op_type\"` (string): Its likely **Op Type**. Choose from: `DEV`, `DSN`, `DOC`, `GOV`, `STR`, `QAT`, `COM`, `LRN`, `CRAFT`, `PRAC`, `PROJ`.\n",
    "    *   `\"primary_deliverable\"` (string): A brief, verifiable statement of the primary outcome or artifact produced by completing the Op."
   ]
  },
  {
   "cell_type": "markdown",
   "id": "adab8690",
   "metadata": {},
   "source": [
    "**Example User Input for Task 3.1 (for a single sector):**\n",
    "\n",
    "```text\n",
    "Project Meta-Objective(s):\n",
    "M1: To establish a secure, integrated, and self-hosted Chiron Guild Communications Hub...\n",
    "M2: To streamline internal communications and knowledge sharing...\n",
    "\n",
    "Current Sector ID: 1\n",
    "Current Sector Name: Platform Research, Selection & Initial Setup\n",
    "Current Sector Summary: Thoroughly research, evaluate, and select a suitable self-hosted communication platform, then perform initial server provisioning and software installation.\n",
    "\n",
    "Task: Generate the JSON array of Guild Ops for this sector.\n",
    "```"
   ]
  },
  {
   "cell_type": "markdown",
   "id": "6b2caf6a",
   "metadata": {},
   "source": [
    "**Example LLM Output for Task 3.1 (for a single sector):**\n",
    "\n",
    "```text\n",
    "[\n",
    "  {\n",
    "    \"sector_id\": 1,\n",
    "    \"op_title\": \"Research & Document Top 5 Self-Hosted Communication Platforms\",\n",
    "    \"op_type\": \"DOC\",\n",
    "    \"primary_deliverable\": \"A comparative report detailing features, pros/cons, security aspects, and Guild alignment for 5 candidate platforms.\"\n",
    "  },\n",
    "  {\n",
    "    \"sector_id\": 1,\n",
    "    \"op_title\": \"Define Selection Criteria & Scorecard for Communication Platform\",\n",
    "    \"op_type\": \"GOV\",\n",
    "    \"primary_deliverable\": \"A finalized scorecard with weighted criteria for platform selection, approved by relevant stakeholders.\"\n",
    "  },\n",
    "  {\n",
    "    \"sector_id\": 1,\n",
    "    \"op_title\": \"Select Final Communication Platform based on Research & Criteria\",\n",
    "    \"op_type\": \"STR\",\n",
    "    \"primary_deliverable\": \"A decision log documenting the final platform choice and rationale.\"\n",
    "  },\n",
    "  {\n",
    "    \"sector_id\": 1,\n",
    "    \"op_title\": \"Provision Development Server for Selected Platform\",\n",
    "    \"op_type\": \"DEV\",\n",
    "    \"primary_deliverable\": \"A provisioned server (virtual or physical) with OS, basic security hardening, and network access, ready for platform installation.\"\n",
    "  },\n",
    "  {\n",
    "    \"sector_id\": 1,\n",
    "    \"op_title\": \"Install and Perform Initial Configuration of Selected Platform\",\n",
    "    \"op_type\": \"DEV\",\n",
    "    \"primary_deliverable\": \"The selected communication platform installed on the development server with default admin account setup and basic operational status confirmed.\"\n",
    "  }\n",
    "]\n",
    "```\n"
   ]
  }
 ],
 "metadata": {
  "language_info": {
   "name": "python"
  }
 },
 "nbformat": 4,
 "nbformat_minor": 5
}
